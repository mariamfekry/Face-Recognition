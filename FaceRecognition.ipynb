{
  "nbformat": 4,
  "nbformat_minor": 0,
  "metadata": {
    "colab": {
      "name": "FaceRecognition.ipynb",
      "provenance": [],
      "collapsed_sections": []
    },
    "kernelspec": {
      "name": "python3",
      "display_name": "Python 3"
    },
    "language_info": {
      "name": "python"
    }
  },
  "cells": [
    {
      "cell_type": "markdown",
      "metadata": {
        "id": "lPLYg8w4Txg3"
      },
      "source": [
        "## **Downloading The Dataset**"
      ]
    },
    {
      "cell_type": "code",
      "metadata": {
        "id": "jIbvsiITCpF8",
        "colab": {
          "base_uri": "https://localhost:8080/"
        },
        "outputId": "cc8e3e91-9271-43fa-a832-e520228e8d03"
      },
      "source": [
        "import numpy as np\n",
        "import pandas as pd\n",
        "from google.colab import drive\n",
        "import numpy as np\n",
        "import matplotlib.image as mpimg \n",
        "import matplotlib.pyplot as plt \n",
        "import scipy as sc\n",
        "from numpy import linalg\n",
        "\n",
        "\n",
        "imgs = []                                                                  \n",
        "drive.mount('/content/drive', force_remount=True)\n",
        "\n",
        "for character in range (1,41):                                                  \n",
        "  for image in range (1,11):                                                    \n",
        "    Path = '/content/drive/My Drive/FaceRecognition/s'+ str(character) +'/'     \n",
        "    Img = mpimg.imread(Path + str(image) + '.pgm')                              \n",
        "    Vector = np.array(Img).reshape(10304)                                       \n",
        "    imgs.append(Vector)                                                 "
      ],
      "execution_count": null,
      "outputs": [
        {
          "output_type": "stream",
          "text": [
            "Mounted at /content/drive\n"
          ],
          "name": "stdout"
        }
      ]
    },
    {
      "cell_type": "markdown",
      "metadata": {
        "id": "jo9obRmhUpe8"
      },
      "source": [
        "# **Generating the Data Matrix and the Label vector**"
      ]
    },
    {
      "cell_type": "code",
      "metadata": {
        "id": "kQhuJJ_zCqnM"
      },
      "source": [
        "D = np.arange(400*10304).reshape(400,10304)\n",
        "label_y = []\n",
        "counter = 0\n",
        "for i in range(len(D)):\n",
        "  D[i] = np.array(imgs[i]).flatten()\n",
        "  if(i%10 == 0):\n",
        "    counter += 1\n",
        "    label_y.append(counter)\n",
        "  else:\n",
        "    label_y.append(counter)"
      ],
      "execution_count": null,
      "outputs": []
    },
    {
      "cell_type": "markdown",
      "metadata": {
        "id": "i22uJT6rU_e8"
      },
      "source": [
        "# **Splitting the Dataset into Training and Test sets**"
      ]
    },
    {
      "cell_type": "code",
      "metadata": {
        "id": "hfosWXDYCs_U"
      },
      "source": [
        "train_set = np.arange(200*10304).reshape(200,10304)\n",
        "test_set = np.arange(200*10304).reshape(200,10304)\n",
        "\n",
        "label_y_train = []\n",
        "label_y_test = []\n",
        "j = 0\n",
        "k = 0\n",
        "for i in range(len(D)):\n",
        "  \n",
        "  if(i%2 == 0):\n",
        "    test_set[j] = D[i]\n",
        "    label_y_test.append(label_y[i])\n",
        "    j += 1\n",
        "  else:\n",
        "    train_set[k] = D[i]\n",
        "    label_y_train.append(label_y[i])\n",
        "    k += 1"
      ],
      "execution_count": null,
      "outputs": []
    },
    {
      "cell_type": "markdown",
      "metadata": {
        "id": "-ubXo4FZVMd5"
      },
      "source": [
        "# **Classification using PCA**"
      ]
    },
    {
      "cell_type": "code",
      "metadata": {
        "id": "lOnEdIyd5IJh"
      },
      "source": [
        "def Reduced_Dimension(eigenvalues,alpha):\n",
        "\n",
        "  \n",
        "  sum_eigenvalues = np.sum(eigenvalues)\n",
        "  sum = 0\n",
        "  counter = 0\n",
        "  while (sum/sum_eigenvalues) < alpha:\n",
        "    sum += eigenvalues[counter]             \n",
        "    counter += 1\n",
        "\n",
        "  return counter"
      ],
      "execution_count": null,
      "outputs": []
    },
    {
      "cell_type": "code",
      "metadata": {
        "id": "Gwy-JL7-5LDg"
      },
      "source": [
        "Alpha = [0.8,0.85,0.9,0.95]\n",
        "def PCA (train_set,test_set):\n",
        "  mean_train = np.mean(train_set,axis=0)\n",
        "  mean_test = np.mean(test_set,axis=0)\n",
        "  centered_data_train = train_set - mean_train\n",
        "  centered_data_test = test_set - mean_test\n",
        "\n",
        "  covariance_train =np.cov(centered_data_train, rowvar=False, bias=True)\n",
        "\n",
        "\n",
        "  eigenvalues_train, eigenvectors_train = np.linalg.eigh(covariance_train) #symmetric\n",
        "\n",
        "  eigenvalues_train = np.flip(eigenvalues_train,axis=0) \n",
        "  eigenvectors_train = np.flip(eigenvectors_train,axis=1) \n",
        "  \n",
        "  return centered_data_train,centered_data_test,eigenvalues_train,eigenvectors_train"
      ],
      "execution_count": null,
      "outputs": []
    },
    {
      "cell_type": "code",
      "metadata": {
        "id": "Tdl7yg7p5OKY"
      },
      "source": [
        "def projection(eigenvalues_train,eigenvectors_train,centered_data_train,centered_data_test,Alpha):  \n",
        "  \n",
        "  r = Reduced_Dimension(eigenvalues_train,Alpha)  # send one alpha\n",
        "  \n",
        "  projection_matrix = eigenvectors_train[:,0:r]\n",
        "  reduced_dimension_train = (projection_matrix.transpose() @ centered_data_train.transpose())\n",
        "  reduced_dimension_test = (projection_matrix.transpose() @ centered_data_test.transpose())\n",
        "\n",
        "  return reduced_dimension_train,reduced_dimension_test\n"
      ],
      "execution_count": null,
      "outputs": []
    },
    {
      "cell_type": "markdown",
      "metadata": {
        "id": "pXb1f53ZV6mj"
      },
      "source": [
        "# **KNN Classifier**"
      ]
    },
    {
      "cell_type": "code",
      "metadata": {
        "id": "h4IrsOiu5RPo"
      },
      "source": [
        "from sklearn.neighbors import KNeighborsClassifier\n",
        "from sklearn.preprocessing import StandardScaler\n",
        "from sklearn.metrics import accuracy_score\n",
        "from sklearn import metrics\n",
        "from sklearn.metrics import plot_confusion_matrix\n",
        "import seaborn as sns\n",
        "                                                       \n",
        "# K_Neighbours Function\n",
        "def k_Neigh(K, Train, Test, TestLabel, Alpha, TrainLabel,number_of_classes):\n",
        "   model = KNeighborsClassifier(n_neighbors= K)                                 \n",
        "   FitModel = model.fit(Train, TrainLabel)                                          \n",
        "   Predictions = model.predict(Test)                                                   \n",
        "   Accuracy = accuracy_score(TestLabel, Predictions)\n",
        "   if (Alpha >0):                           \n",
        "     print(\"For Alpha = \", Alpha,\"\\t With \", K, \" Neighbours\", \"\\t The Accuracy Will be = \", Accuracy)\n",
        "   elif (Alpha==0):\n",
        "     \n",
        "     print(\"For \",K,\"Neighbours\", \"\\t The Accuracy Will be = \", Accuracy)\n",
        "   if (number_of_classes ==2):\n",
        "    print(\" NORMALIZED CONFUSION MATRIX\\n\")\n",
        "    cm=metrics.confusion_matrix(TestLabel, Predictions,labels=[1, 2])\n",
        "    cmn = cm.astype('float') /cm.sum(axis=1)[:, np.newaxis]\n",
        "    plt.figure(figsize=(8, 7))\n",
        "    cmt = pd.DataFrame(cmn,index=['true:faces', 'true:non faces'], \n",
        "    columns=['pred:faces', 'pred:non faces'])    \n",
        "    sns.heatmap(cmt, annot=True, fmt='.2f', xticklabels=['pred:faces', 'pred:non faces'],yticklabels=['true:faces', 'true:non faces'])\n",
        "    plt.show()       \n",
        "   return Accuracy"
      ],
      "execution_count": null,
      "outputs": []
    },
    {
      "cell_type": "markdown",
      "metadata": {
        "id": "3h6Fv61ycCkG"
      },
      "source": [
        "# **Classifier Tuning For PCA**"
      ]
    },
    {
      "cell_type": "code",
      "metadata": {
        "id": "XoueSNaT5XoP",
        "colab": {
          "base_uri": "https://localhost:8080/"
        },
        "outputId": "d8726379-205b-4426-f282-98d54fb3a208"
      },
      "source": [
        "centered_data_train,centered_data_test,eigenvalues_train,eigenvectors_train = PCA(train_set,test_set)\n",
        "\n",
        "for i in range(len(Alpha)):\n",
        "  reduced_dimension_train,reduced_dimension_test = projection(eigenvalues_train,eigenvectors_train,centered_data_train,centered_data_test,Alpha[i])\n",
        "  k_Neigh(1,reduced_dimension_train.T,reduced_dimension_test.T,label_y_test,Alpha[i],label_y_train,40)\n",
        "  k_Neigh(3,reduced_dimension_train.T,reduced_dimension_test.T,label_y_test,Alpha[i],label_y_train,40)\n",
        "  k_Neigh(5,reduced_dimension_train.T,reduced_dimension_test.T,label_y_test,Alpha[i],label_y_train,40)\n",
        "  k_Neigh(7,reduced_dimension_train.T,reduced_dimension_test.T,label_y_test,Alpha[i],label_y_train,40)"
      ],
      "execution_count": null,
      "outputs": [
        {
          "output_type": "stream",
          "text": [
            "For Alpha =  0.8 \t With  1  Neighbours \t The Accuracy Will be =  0.93\n",
            "For Alpha =  0.8 \t With  3  Neighbours \t The Accuracy Will be =  0.85\n",
            "For Alpha =  0.8 \t With  5  Neighbours \t The Accuracy Will be =  0.82\n",
            "For Alpha =  0.8 \t With  7  Neighbours \t The Accuracy Will be =  0.78\n",
            "For Alpha =  0.85 \t With  1  Neighbours \t The Accuracy Will be =  0.935\n",
            "For Alpha =  0.85 \t With  3  Neighbours \t The Accuracy Will be =  0.855\n",
            "For Alpha =  0.85 \t With  5  Neighbours \t The Accuracy Will be =  0.835\n",
            "For Alpha =  0.85 \t With  7  Neighbours \t The Accuracy Will be =  0.77\n",
            "For Alpha =  0.9 \t With  1  Neighbours \t The Accuracy Will be =  0.94\n",
            "For Alpha =  0.9 \t With  3  Neighbours \t The Accuracy Will be =  0.845\n",
            "For Alpha =  0.9 \t With  5  Neighbours \t The Accuracy Will be =  0.815\n",
            "For Alpha =  0.9 \t With  7  Neighbours \t The Accuracy Will be =  0.75\n",
            "For Alpha =  0.95 \t With  1  Neighbours \t The Accuracy Will be =  0.935\n",
            "For Alpha =  0.95 \t With  3  Neighbours \t The Accuracy Will be =  0.85\n",
            "For Alpha =  0.95 \t With  5  Neighbours \t The Accuracy Will be =  0.81\n",
            "For Alpha =  0.95 \t With  7  Neighbours \t The Accuracy Will be =  0.73\n"
          ],
          "name": "stdout"
        }
      ]
    },
    {
      "cell_type": "code",
      "metadata": {
        "id": "QgiTb2AR5bDQ",
        "colab": {
          "base_uri": "https://localhost:8080/",
          "height": 132
        },
        "outputId": "02bd6731-c4fa-4105-d30d-e7aacbf1e56b"
      },
      "source": [
        "plt.plot([0.8,0.85,0.9,0.95],[0.93,0.935,0.94,0.935]);\n",
        "plt.title('Accuracy of K=1 versus Alpha');\n",
        "plt.gcf().set_size_inches(10,1);\n",
        "plt.xlabel('ALPHA');\n",
        "plt.ylabel('ACCURACY');"
      ],
      "execution_count": null,
      "outputs": [
        {
          "output_type": "display_data",
          "data": {
            "image/png": "[encoded data removed]",
            "text/plain": [
              "<Figure size 720x72 with 1 Axes>"
            ]
          },
          "metadata": {
            "tags": [],
            "needs_background": "light"
          }
        }
      ]
    },
    {
      "cell_type": "markdown",
      "metadata": {
        "id": "qWTIJKSvZbry"
      },
      "source": [
        "# **Classification Using LDA**"
      ]
    },
    {
      "cell_type": "code",
      "metadata": {
        "id": "W1OJ853z9dh6"
      },
      "source": [
        "List_of_classes=[]\n",
        "List_of_means=[]\n",
        "for i in range(1,202):\n",
        "    if(i%5==0):\n",
        "        List_of_classes.append(train_set[i-5:i,:])\n",
        "        \n",
        "for i in range(0,40):\n",
        "  List_of_means.append(np.mean(List_of_classes[i], axis=0)) #compute the mean across the columns of the 5 rows of each class, produces Matrix of size (10304 x 1)\n"
      ],
      "execution_count": null,
      "outputs": []
    },
    {
      "cell_type": "code",
      "metadata": {
        "id": "2QH1qZhFqgZR",
        "colab": {
          "base_uri": "https://localhost:8080/"
        },
        "outputId": "53cf3718-a429-429c-b483-c624bac80cab"
      },
      "source": [
        "Overall_mean = np.mean(train_set, axis=0)\n",
        "print(\"The overall mean is a matrix of size (10304 x 1)\")\n",
        "print(Overall_mean)"
      ],
      "execution_count": null,
      "outputs": [
        {
          "output_type": "stream",
          "text": [
            "The overall mean is a matrix of size (10304 x 1)\n",
            "[85.12  84.89  85.165 ... 77.24  74.335 73.37 ]\n"
          ],
          "name": "stdout"
        }
      ]
    },
    {
      "cell_type": "code",
      "metadata": {
        "id": "fbqzGBwaqUG4",
        "colab": {
          "base_uri": "https://localhost:8080/"
        },
        "outputId": "12b9a44f-a7b2-4e54-eee7-040071eb04e1"
      },
      "source": [
        "B = np.zeros((10304,10304))\n",
        "Array = np.array(List_of_means)\n",
        "\n",
        "for i in range(0,40):\n",
        "  B += 5*np.outer((Array[i]-Overall_mean),(Array[i]-Overall_mean).T)\n",
        "  \n",
        "print(B)"
      ],
      "execution_count": null,
      "outputs": [
        {
          "output_type": "stream",
          "text": [
            "[[235278.32  232717.44  233560.64  ... -43174.56  -21703.44  -15646.88 ]\n",
            " [232717.44  230668.78  231142.03  ... -40923.52  -20191.43  -14642.46 ]\n",
            " [233560.64  231142.03  232523.155 ... -39926.72  -18941.855 -13273.41 ]\n",
            " ...\n",
            " [-43174.56  -40923.52  -39926.72  ... 360976.48  315665.12  312321.04 ]\n",
            " [-21703.44  -20191.43  -18941.855 ... 315665.12  294892.955 289157.81 ]\n",
            " [-15646.88  -14642.46  -13273.41  ... 312321.04  289157.81  289627.82 ]]\n"
          ],
          "name": "stdout"
        }
      ]
    },
    {
      "cell_type": "code",
      "metadata": {
        "colab": {
          "base_uri": "https://localhost:8080/"
        },
        "id": "BWYjba-gO9x2",
        "outputId": "ee7ceff1-60e0-4c95-ee7a-a0684edbf403"
      },
      "source": [
        "withinclassScatter = np.zeros((10304,10304))\n",
        "for i in range(0,40):\n",
        "    withinclassScatter += np.dot((List_of_classes[i] - Array[i]).T,List_of_classes[i] - Array[i])\n",
        "\n",
        "print(withinclassScatter)"
      ],
      "execution_count": null,
      "outputs": [
        {
          "output_type": "stream",
          "text": [
            "[[ 28496.8  27128.2  27372.4 ...  -3977.2  -3511.6    539. ]\n",
            " [ 27128.2  28448.8  27518.6 ...  -2697.2  -2349.2   1781.6]\n",
            " [ 27372.4  27518.6  28698.4 ...  -3472.2   -923.2   3416.2]\n",
            " ...\n",
            " [ -3977.2  -2697.2  -3472.2 ... 140034.   83425.8  64222.2]\n",
            " [ -3511.6  -2349.2   -923.2 ...  83425.8  99585.6  82754.4]\n",
            " [   539.    1781.6   3416.2 ...  64222.2  82754.4 104148.8]]\n"
          ],
          "name": "stdout"
        }
      ]
    },
    {
      "cell_type": "code",
      "metadata": {
        "id": "-P5wgXPluRMI",
        "colab": {
          "base_uri": "https://localhost:8080/"
        },
        "outputId": "0e07ff73-7d16-4ee5-beb4-da4756ef1b09"
      },
      "source": [
        "inv_WithinClassScatter = sc.linalg.pinvh(withinclassScatter)\n",
        "eigen_values,eigen_vectors = np.linalg.eigh(np.dot(inv_WithinClassScatter,B))\n",
        "\n",
        "print(\"eigen vectors\")\n",
        "print(eigen_vectors)"
      ],
      "execution_count": null,
      "outputs": [
        {
          "output_type": "stream",
          "text": [
            "eigen vectors\n",
            "[[ 0.00201327 -0.01488493  0.0169673  ... -0.01464629  0.01778491\n",
            "  -0.00309042]\n",
            " [ 0.00201144 -0.01458636  0.01705736 ... -0.01483298  0.01743708\n",
            "  -0.00307351]\n",
            " [ 0.00171153 -0.0147627   0.01672045 ... -0.01469255  0.01763276\n",
            "  -0.00278525]\n",
            " ...\n",
            " [ 0.03200602 -0.0007549  -0.0182717  ... -0.03081825 -0.00588993\n",
            "   0.02970223]\n",
            " [ 0.01512778 -0.00340697 -0.01494218 ... -0.03216602 -0.01001873\n",
            "   0.01634163]\n",
            " [ 0.03701944 -0.01067216 -0.00672789 ... -0.01829022 -0.01345548\n",
            "   0.033857  ]]\n"
          ],
          "name": "stdout"
        }
      ]
    },
    {
      "cell_type": "code",
      "metadata": {
        "id": "EIncSFJZ04Zn"
      },
      "source": [
        "centered_data_train = train_set - Overall_mean\n",
        "centered_data_test = test_set - test_set.mean(axis=0)\n",
        "idx = eigen_values.argsort()[-39:][::-1]\n",
        "sortedEigVectMatrixLDA = np.real(eigen_vectors[:,idx])\n",
        "reduced_dimension_train = np.dot(centered_data_train,sortedEigVectMatrixLDA)\n",
        "reduced_dimension_test = np.dot( centered_data_test,sortedEigVectMatrixLDA)"
      ],
      "execution_count": null,
      "outputs": []
    },
    {
      "cell_type": "markdown",
      "metadata": {
        "id": "JhgI5h8pcLCS"
      },
      "source": [
        "# **Classifier Tuning For LDA**"
      ]
    },
    {
      "cell_type": "code",
      "metadata": {
        "id": "ZO_Y5JPD0vwC",
        "colab": {
          "base_uri": "https://localhost:8080/"
        },
        "outputId": "acaff2b0-f6c1-4ef7-cbba-1956be9960c1"
      },
      "source": [
        "k_Neigh(1,reduced_dimension_train,reduced_dimension_test,label_y_test,0,label_y_train,40)\n",
        "k_Neigh(3,reduced_dimension_train,reduced_dimension_test,label_y_test,0,label_y_train,40)\n",
        "k_Neigh(5,reduced_dimension_train,reduced_dimension_test,label_y_test,0,label_y_train,40)\n",
        "k_Neigh(7,reduced_dimension_train,reduced_dimension_test,label_y_test,0,label_y_train,40)"
      ],
      "execution_count": null,
      "outputs": [
        {
          "output_type": "stream",
          "text": [
            "For  1 Neighbours \t The Accuracy Will be =  0.95\n",
            "For  3 Neighbours \t The Accuracy Will be =  0.88\n",
            "For  5 Neighbours \t The Accuracy Will be =  0.865\n",
            "For  7 Neighbours \t The Accuracy Will be =  0.85\n"
          ],
          "name": "stdout"
        },
        {
          "output_type": "execute_result",
          "data": {
            "text/plain": [
              "0.85"
            ]
          },
          "metadata": {
            "tags": []
          },
          "execution_count": 39
        }
      ]
    },
    {
      "cell_type": "markdown",
      "metadata": {
        "id": "QcGt8XbwZpKo"
      },
      "source": [
        "# **Faces vs Non-Faces**\n",
        "### **Downloading Dataset**"
      ]
    },
    {
      "cell_type": "code",
      "metadata": {
        "id": "vT5VZCEq4cnk"
      },
      "source": [
        "#reading non-face images\n",
        "import cv2\n",
        "Imgs_2 = []\n",
        "\n",
        "for i in range (1,4001):                                                                                            \n",
        "  Path = '/content/drive/My Drive/dog/'           \n",
        "  non_Img = cv2.imread(Path+'pic ('+str(i)+').jpg',0)    # transforming to grayscale\n",
        "  resized = cv2.resize(non_Img,(92,112))                   \n",
        "  vector = resized.flatten()  \n",
        "  Imgs_2.append(vector)"
      ],
      "execution_count": null,
      "outputs": []
    },
    {
      "cell_type": "markdown",
      "metadata": {
        "id": "0fVJVV3WaepS"
      },
      "source": [
        "### **Splitting Faces And Non-Faces**"
      ]
    },
    {
      "cell_type": "code",
      "metadata": {
        "id": "c3T5RumU4frN"
      },
      "source": [
        "matrix_fnf = np.arange(4200*10304).reshape(4200,10304) # matrix of faces and non faces(4000)\n",
        "label_fnf= []\n",
        "\n",
        "for i in range(0,200):\n",
        "  matrix_fnf[i]=D[i]\n",
        "  label_fnf.append(1)\n",
        "\n",
        "k=0\n",
        "for j in range(200,4200):\n",
        "  matrix_fnf[j]=np.array(Imgs_2[k])\n",
        "  k+=1 \n",
        "  label_fnf.append(2)\n"
      ],
      "execution_count": null,
      "outputs": []
    },
    {
      "cell_type": "code",
      "metadata": {
        "id": "laecAZOS4j0k"
      },
      "source": [
        "def train_test_split(num_nonFaces):    # takes the number of non-faces without changing number of faces\n",
        "\n",
        "\n",
        "  new_train_set = np.arange((100+num_nonFaces//2)*10304).reshape((100+num_nonFaces//2),10304)\n",
        "  new_test_set = np.arange((100+num_nonFaces//2)*10304).reshape((100+num_nonFaces//2),10304)\n",
        "\n",
        "  label_fnf_train = []\n",
        "  label_fnf_test = []\n",
        "  j = 0\n",
        "  k = 0\n",
        "  m = 100\n",
        "  n = 100\n",
        "  for i in range(0,200):   \n",
        "    if (i%2 == 0):\n",
        "      new_test_set[j] = matrix_fnf[i]\n",
        "      label_fnf_test.append(1)\n",
        "      j += 1\n",
        "    else:\n",
        "      new_train_set[k] = matrix_fnf[i]\n",
        "      label_fnf_train.append(1)\n",
        "      k += 1\n",
        "  for l in range(200,(200+num_nonFaces)): \n",
        "\n",
        "    if (l%2 == 0):\n",
        "      new_test_set[m] = matrix_fnf[l]\n",
        "      label_fnf_test.append(2)      ## 1 for faces 2 for non faces\n",
        "      m += 1\n",
        "    else:\n",
        "      new_train_set[n] = matrix_fnf[l]\n",
        "      label_fnf_train.append(2)\n",
        "      n += 1   \n",
        "  return new_test_set,new_train_set,label_fnf_train,label_fnf_test"
      ],
      "execution_count": null,
      "outputs": []
    },
    {
      "cell_type": "markdown",
      "metadata": {
        "id": "IRt5SWBXapOc"
      },
      "source": [
        "### **Classification Using PCA**"
      ]
    },
    {
      "cell_type": "code",
      "metadata": {
        "colab": {
          "base_uri": "https://localhost:8080/",
          "height": 2710
        },
        "id": "1qVmvcnwpfZa",
        "outputId": "b8ec69e2-44b9-4387-ca96-b81590f2dc0b"
      },
      "source": [
        "# different non- face values for fixed number of faces(imbalanced classification)\n",
        "\n",
        "ranges=[100,400,1000,2000,4000]\n",
        "array=[]\n",
        "for j in range(len(ranges)):\n",
        "  print('For the following range of non-faces in the training set ',ranges[j]//2,':')\n",
        "  #ratios in training dataset (2:1),(1:2),(1:5),(1:10),(1:20)\n",
        "  new_test_set,new_train_set,label_fnf_train,label_fnf_test=train_test_split(ranges[j]) \n",
        "  new_centered_data_train,new_centered_data_test,new_eigenvalues_train,new_eigenvectors_train = PCA(new_train_set,new_test_set)\n",
        "  new_reduced_dimension_train,new_reduced_dimension_test = projection(new_eigenvalues_train,new_eigenvectors_train,new_centered_data_train,new_centered_data_test,0.8)\n",
        "  accuracy=k_Neigh(1,new_reduced_dimension_train.T,new_reduced_dimension_test.T,label_fnf_test,0.8,label_fnf_train,2)\n",
        "  array.append(accuracy)\n",
        "  \n",
        "for j in range(len(ranges)):\n",
        "  ranges[j]=ranges[j]/2\n",
        "\n",
        "plt.plot(ranges,array) \n",
        "plt.xlabel(\"Number of Non-Faces\")\n",
        "plt.ylabel(\"Accuracy\")\n",
        "plt.show()     \n",
        "\n"
      ],
      "execution_count": null,
      "outputs": [
        {
          "output_type": "stream",
          "text": [
            "For the following range of non-faces in the training set  50 :\n",
            "For Alpha =  0.8 \t With  1  Neighbours \t The Accuracy Will be =  0.9266666666666666\n",
            " NORMALIZED CONFUSION MATRIX\n",
            "\n"
          ],
          "name": "stdout"
        },
        {
          "output_type": "display_data",
          "data": {
            "image/png": "[encoded data removed]",
            "text/plain": [
              "<Figure size 576x504 with 2 Axes>"
            ]
          },
          "metadata": {
            "tags": [],
            "needs_background": "light"
          }
        },
        {
          "output_type": "stream",
          "text": [
            "For the following range of non-faces in the training set  200 :\n",
            "For Alpha =  0.8 \t With  1  Neighbours \t The Accuracy Will be =  0.92\n",
            " NORMALIZED CONFUSION MATRIX\n",
            "\n"
          ],
          "name": "stdout"
        },
        {
          "output_type": "display_data",
          "data": {
            "image/png": "[encoded data removed]",
            "text/plain": [
              "<Figure size 576x504 with 2 Axes>"
            ]
          },
          "metadata": {
            "tags": [],
            "needs_background": "light"
          }
        },
        {
          "output_type": "stream",
          "text": [
            "For the following range of non-faces in the training set  500 :\n",
            "For Alpha =  0.8 \t With  1  Neighbours \t The Accuracy Will be =  0.9316666666666666\n",
            " NORMALIZED CONFUSION MATRIX\n",
            "\n"
          ],
          "name": "stdout"
        },
        {
          "output_type": "display_data",
          "data": {
            "image/png": "[encoded data removed]",
            "text/plain": [
              "<Figure size 576x504 with 2 Axes>"
            ]
          },
          "metadata": {
            "tags": [],
            "needs_background": "light"
          }
        },
        {
          "output_type": "stream",
          "text": [
            "For the following range of non-faces in the training set  1000 :\n",
            "For Alpha =  0.8 \t With  1  Neighbours \t The Accuracy Will be =  0.9590909090909091\n",
            " NORMALIZED CONFUSION MATRIX\n",
            "\n"
          ],
          "name": "stdout"
        },
        {
          "output_type": "display_data",
          "data": {
            "image/png": "[encoded data removed]",
            "text/plain": [
              "<Figure size 576x504 with 2 Axes>"
            ]
          },
          "metadata": {
            "tags": [],
            "needs_background": "light"
          }
        },
        {
          "output_type": "stream",
          "text": [
            "For the following range of non-faces in the training set  2000 :\n",
            "For Alpha =  0.8 \t With  1  Neighbours \t The Accuracy Will be =  0.9728571428571429\n",
            " NORMALIZED CONFUSION MATRIX\n",
            "\n"
          ],
          "name": "stdout"
        },
        {
          "output_type": "display_data",
          "data": {
            "image/png": "[encoded data removed]",
            "text/plain": [
              "<Figure size 576x504 with 2 Axes>"
            ]
          },
          "metadata": {
            "tags": [],
            "needs_background": "light"
          }
        },
        {
          "output_type": "display_data",
          "data": {
            "image/png": "[encoded data removed]",
            "text/plain": [
              "<Figure size 432x288 with 1 Axes>"
            ]
          },
          "metadata": {
            "tags": [],
            "needs_background": "light"
          }
        }
      ]
    },
    {
      "cell_type": "markdown",
      "metadata": {
        "id": "SZtJ4yz9a14S"
      },
      "source": [
        "### **Classification Using LDA**"
      ]
    },
    {
      "cell_type": "code",
      "metadata": {
        "id": "WfjHO03dWA8O",
        "colab": {
          "base_uri": "https://localhost:8080/",
          "height": 1000
        },
        "outputId": "7f6df8e5-eee3-480c-d9e5-b3d73058f7c3"
      },
      "source": [
        "ranges=[100,400,1000,2000,4000] \n",
        "List_of_classes=[]\n",
        "List_of_means=[]\n",
        "Accuracy = []\n",
        "for j in range(len(ranges)):\n",
        "  print('For the following range of non-faces in the training set ',ranges[j]//2,':')\n",
        "  #ratios in training dataset (2:1),(1:1),(1:2),(1:5),(1:10) (slight imbalance and severe imbalance) \n",
        "\n",
        "  new_test_set,new_train_set,label_fnf_train,label_fnf_test=train_test_split(ranges[j]) \n",
        "  List_of_classes.append(new_train_set[0:100,:])                                          # first 100 are faces label = 1\n",
        "  List_of_classes.append(new_train_set[100:len(new_train_set),:])                         # the rest are nonfaces label = 2\n",
        "                                                                                      \n",
        "  List_of_means.append(np.mean(List_of_classes[0],axis=0))\n",
        "  List_of_means.append(np.mean(List_of_classes[1],axis=0))\n",
        "\n",
        "  B = np.zeros((10304,10304))\n",
        "  Array_mean = np.array(List_of_means)\n",
        "  B = np.outer((Array_mean[0]-Array_mean[1]),(Array_mean[0]-Array_mean[1]).T)\n",
        "\n",
        "  withinclassScatter = np.zeros((10304,10304))\n",
        "  for i in range(0,2):\n",
        "      withinclassScatter += np.dot((List_of_classes[i] - Array_mean[i]).T,List_of_classes[i] - Array_mean[i])\n",
        "\n",
        "  inv_WithinClassScatter =  sc.linalg.pinvh(withinclassScatter)\n",
        "\n",
        "  linearDiscriminant=inv_WithinClassScatter @ (Array_mean[0]-Array_mean[1])\n",
        "  linearDiscriminant=linearDiscriminant/np.linalg.norm(linearDiscriminant)\n",
        "\n",
        "\n",
        "  reduced_dimension_train = linearDiscriminant.T @ new_train_set.T\n",
        "  reduced_dimension_test = linearDiscriminant.T @ new_test_set.T\n",
        "  \n",
        "  acc = k_Neigh(1,reduced_dimension_train.T.reshape(-1,1),reduced_dimension_test.T.reshape(-1,1),label_fnf_test,0,label_fnf_train,2)\n",
        "  Accuracy.append(acc)\n",
        "\n",
        "for j in range(len(ranges)):\n",
        "  ranges[j]=ranges[j]/2  \n",
        "plt.plot(ranges,Accuracy)   \n",
        "\n",
        "plt.xlabel(\"Number Of Non-Faces Images\")\n",
        "plt.ylabel(\"Accuracy\")\n",
        "plt.show()"
      ],
      "execution_count": null,
      "outputs": [
        {
          "output_type": "stream",
          "text": [
            "For the following range of non-faces in the training set  50 :\n",
            "For  1 Neighbours \t The Accuracy Will be =  0.9733333333333334\n",
            " NORMALIZED CONFUSION MATRIX\n",
            "\n"
          ],
          "name": "stdout"
        },
        {
          "output_type": "display_data",
          "data": {
            "image/png": "[encoded data removed]",
            "text/plain": [
              "<Figure size 576x504 with 2 Axes>"
            ]
          },
          "metadata": {
            "tags": [],
            "needs_background": "light"
          }
        },
        {
          "output_type": "stream",
          "text": [
            "For the following range of non-faces in the training set  200 :\n",
            "For  1 Neighbours \t The Accuracy Will be =  0.95\n",
            " NORMALIZED CONFUSION MATRIX\n",
            "\n"
          ],
          "name": "stdout"
        },
        {
          "output_type": "display_data",
          "data": {
            "image/png": "[encoded data removed]",
            "text/plain": [
              "<Figure size 576x504 with 2 Axes>"
            ]
          },
          "metadata": {
            "tags": [],
            "needs_background": "light"
          }
        },
        {
          "output_type": "stream",
          "text": [
            "For the following range of non-faces in the training set  500 :\n",
            "For  1 Neighbours \t The Accuracy Will be =  0.9433333333333334\n",
            " NORMALIZED CONFUSION MATRIX\n",
            "\n"
          ],
          "name": "stdout"
        },
        {
          "output_type": "display_data",
          "data": {
            "image/png": "[encoded data removed]",
            "text/plain": [
              "<Figure size 576x504 with 2 Axes>"
            ]
          },
          "metadata": {
            "tags": [],
            "needs_background": "light"
          }
        },
        {
          "output_type": "stream",
          "text": [
            "For the following range of non-faces in the training set  1000 :\n",
            "For  1 Neighbours \t The Accuracy Will be =  0.9590909090909091\n",
            " NORMALIZED CONFUSION MATRIX\n",
            "\n"
          ],
          "name": "stdout"
        },
        {
          "output_type": "display_data",
          "data": {
            "image/png": "[encoded data removed]",
            "text/plain": [
              "<Figure size 576x504 with 2 Axes>"
            ]
          },
          "metadata": {
            "tags": [],
            "needs_background": "light"
          }
        },
        {
          "output_type": "stream",
          "text": [
            "For the following range of non-faces in the training set  2000 :\n",
            "For  1 Neighbours \t The Accuracy Will be =  0.9695238095238096\n",
            " NORMALIZED CONFUSION MATRIX\n",
            "\n"
          ],
          "name": "stdout"
        },
        {
          "output_type": "display_data",
          "data": {
            "image/png": "[encoded data removed]",
            "text/plain": [
              "<Figure size 576x504 with 2 Axes>"
            ]
          },
          "metadata": {
            "tags": [],
            "needs_background": "light"
          }
        },
        {
          "output_type": "display_data",
          "data": {
            "image/png": "[encoded data removed]",
            "text/plain": [
              "<Figure size 432x288 with 1 Axes>"
            ]
          },
          "metadata": {
            "tags": [],
            "needs_background": "light"
          }
        }
      ]
    },
    {
      "cell_type": "markdown",
      "metadata": {
        "id": "VEClUgkpa_jl"
      },
      "source": [
        "# **Bonus**\n",
        "### **New Data Split [70:30]**"
      ]
    },
    {
      "cell_type": "code",
      "metadata": {
        "id": "UPmGXBis42lU",
        "colab": {
          "base_uri": "https://localhost:8080/"
        },
        "outputId": "f892950a-e14e-4070-aa27-e3921668f31e"
      },
      "source": [
        "from sklearn.model_selection import train_test_split \n",
        "\n",
        "X_train, X_test, y_train, y_test = train_test_split(D, label_y, test_size=0.3)\n",
        "X_train, X_test, y_train, y_test = np.array(X_train), np.array(X_test), np.array(y_train), np.array(y_test)\n",
        "\n",
        "print(X_train.shape, X_test.shape)\n",
        "print(y_train.shape, y_test.shape )\n"
      ],
      "execution_count": null,
      "outputs": [
        {
          "output_type": "stream",
          "text": [
            "(280, 10304) (120, 10304)\n",
            "(280,) (120,)\n"
          ],
          "name": "stdout"
        }
      ]
    },
    {
      "cell_type": "markdown",
      "metadata": {
        "id": "h5-emeE8bZ3c"
      },
      "source": [
        "### **Classification Using PCA**"
      ]
    },
    {
      "cell_type": "code",
      "metadata": {
        "id": "NRF23Vn8rZR7",
        "colab": {
          "base_uri": "https://localhost:8080/"
        },
        "outputId": "423682e1-db24-49cf-a628-0647765681b7"
      },
      "source": [
        "centered_data_train,centered_data_test,eigenvalues_train,eigenvectors_train = PCA(X_train,X_test)\n",
        "reduced_dimension_train,reduced_dimension_test = projection(eigenvalues_train,eigenvectors_train,centered_data_train,centered_data_test,0.9)\n",
        "k_Neigh(1,reduced_dimension_train.T,reduced_dimension_test.T,y_test,0.9,y_train,40)\n"
      ],
      "execution_count": null,
      "outputs": [
        {
          "output_type": "stream",
          "text": [
            "For Alpha =  0.9 \t With  1  Neighbours \t The Accuracy Will be =  0.9333333333333333\n"
          ],
          "name": "stdout"
        },
        {
          "output_type": "execute_result",
          "data": {
            "text/plain": [
              "0.9333333333333333"
            ]
          },
          "metadata": {
            "tags": []
          },
          "execution_count": 22
        }
      ]
    },
    {
      "cell_type": "markdown",
      "metadata": {
        "id": "bqLOWmLSbhdw"
      },
      "source": [
        "### **Classification Using LDA**"
      ]
    },
    {
      "cell_type": "code",
      "metadata": {
        "id": "1kWTWqPtrpYm",
        "colab": {
          "base_uri": "https://localhost:8080/"
        },
        "outputId": "1edf7886-4e59-46d0-df46-0a7ed0460149"
      },
      "source": [
        "List_of_classes=[]\n",
        "List_of_means=[]\n",
        "for i in range(1,282):\n",
        "    if(i%5==0):\n",
        "        List_of_classes.append(X_train[i-5:i,:])\n",
        "        \n",
        "for i in range(0,56):\n",
        "  List_of_means.append(np.mean(List_of_classes[i], axis=0)) #compute the mean across the columns of the 5 rows of each class, produces Matrix of size (10304 x 1)\n",
        "\n",
        "Overall_mean = np.mean(X_train, axis=0)\n",
        "\n",
        "B = np.zeros((10304,10304))\n",
        "Array = np.array(List_of_means)\n",
        "\n",
        "for i in range(0,56):\n",
        "  B += 5*np.outer((Array[i]-Overall_mean),(Array[i]-Overall_mean).T)\n",
        "\n",
        "\n",
        "withinclassScatter = np.zeros((10304,10304))\n",
        "for i in range(0,56):\n",
        "    withinclassScatter += np.dot((List_of_classes[i] - Array[i]).T,List_of_classes[i] - Array[i])\n",
        "\n",
        "\n",
        "\n",
        "inv_WithinClassScatter = sc.linalg.pinvh(withinclassScatter)\n",
        "eigen_values,eigen_vectors = np.linalg.eigh(np.dot(inv_WithinClassScatter,B))\n",
        "\n",
        "\n",
        "centered_data_train = X_train - Overall_mean\n",
        "centered_data_test = X_test - X_test.mean(axis=0)\n",
        "idx = eigen_values.argsort()[-39:][::-1]\n",
        "sortedEigVectMatrixLDA = np.real(eigen_vectors[:,idx])\n",
        "reduced_dimension_train = np.dot(centered_data_train,sortedEigVectMatrixLDA)\n",
        "reduced_dimension_test = np.dot( centered_data_test,sortedEigVectMatrixLDA)\n",
        "\n",
        "k_Neigh(1,reduced_dimension_train,reduced_dimension_test,y_test,0,y_train,40)"
      ],
      "execution_count": null,
      "outputs": [
        {
          "output_type": "stream",
          "text": [
            "For  1 Neighbours \t The Accuracy Will be =  0.8833333333333333\n"
          ],
          "name": "stdout"
        },
        {
          "output_type": "execute_result",
          "data": {
            "text/plain": [
              "0.8833333333333333"
            ]
          },
          "metadata": {
            "tags": []
          },
          "execution_count": 14
        }
      ]
    }
  ]
}